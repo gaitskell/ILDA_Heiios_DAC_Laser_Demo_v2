{
 "cells": [
  {
   "metadata": {},
   "cell_type": "markdown",
   "source": [
    "# Demo Helios DAC Connect Computer via USB to Helios DAC\n",
    "\n",
    "Tested as a notebook in Python 3.11 MacOS using PyCharm <br>\n",
    "Requires *libHeliosDACAPI.dylib* c library - called by Python via API <br>\n",
    "Also requires *libusb-1.0.0.dylib* <br>\n",
    "\n",
    "\n",
    "250513 v1.2 Gaitskell - simple line example, also demoed using oscilloscope attached to Helios<br>\n",
    "250520 v1.3 Gaitskell - add pseudo spaceship example <br>\n",
    "250521 v1.4 Gaitskell - upload to github <br>\n",
    "\n"
   ],
   "id": "c8787fbf27d49e00"
  },
  {
   "metadata": {},
   "cell_type": "markdown",
   "source": [
    "This version allows experimentation through notebook with what is rendered. <br>\n",
    "Based initially on demo_loadClibrary.py which is a single script.\n",
    "\n",
    "\n"
   ],
   "id": "1c6bfd37aa45f8a5"
  },
  {
   "metadata": {},
   "cell_type": "markdown",
   "source": "## Setup HeliosDAC",
   "id": "516febd434ceb4b1"
  },
  {
   "metadata": {
    "ExecuteTime": {
     "end_time": "2025-05-21T20:14:19.891492Z",
     "start_time": "2025-05-21T20:14:19.886978Z"
    }
   },
   "cell_type": "code",
   "source": [
    "import numpy as np\n",
    "import time\n",
    "\n",
    "from PyQt5.QtWidgets.QScroller import velocity"
   ],
   "id": "27f778dd985143d7",
   "outputs": [],
   "execution_count": 2
  },
  {
   "metadata": {
    "ExecuteTime": {
     "end_time": "2025-05-21T20:14:22.805726Z",
     "start_time": "2025-05-21T20:14:22.801316Z"
    }
   },
   "cell_type": "code",
   "source": [
    "# Setup\n",
    "import ctypes\n",
    "\n",
    "#Define point structure\n",
    "class HeliosPoint(ctypes.Structure):\n",
    "    #_pack_=1\n",
    "    _fields_ = [\n",
    "                ('x', ctypes.c_uint16), # x coord 0 to 4k (12 bit)\n",
    "                ('y', ctypes.c_uint16), # y coord 0 to 4k (12 bit)\n",
    "                ('r', ctypes.c_uint8),  # red\n",
    "                ('g', ctypes.c_uint8),  # green\n",
    "                ('b', ctypes.c_uint8),  # blue\n",
    "                ('i', ctypes.c_uint8)   # intensity\n",
    "                ]"
   ],
   "id": "25e50bb4c528e62d",
   "outputs": [],
   "execution_count": 3
  },
  {
   "metadata": {
    "ExecuteTime": {
     "end_time": "2025-05-21T20:14:34.649845Z",
     "start_time": "2025-05-21T20:14:33.889125Z"
    }
   },
   "cell_type": "code",
   "source": [
    "# Load and initialize C dynamic library that provides an API to Python\n",
    "# libHeliosDacAPI.dylib needs to be available in working directory\n",
    "\n",
    "HeliosLib = ctypes.cdll.LoadLibrary(\"./libHeliosDacAPI.dylib\")\n",
    "numDevices = HeliosLib.OpenDevices()\n",
    "if numDevices>0:\n",
    "    print(f\"\\nFound {numDevices} Helios DACs\")\n",
    "    # print(f\"First Device {}\")\n",
    "else:\n",
    "    print(\"\\nNo Helios DACs found - cannot proceed\")"
   ],
   "id": "19d33df30e5a6815",
   "outputs": [
    {
     "name": "stdout",
     "output_type": "stream",
     "text": [
      "\n",
      "Found 1 Helios DACs\n"
     ]
    }
   ],
   "execution_count": 4
  },
  {
   "metadata": {
    "ExecuteTime": {
     "end_time": "2025-05-21T20:04:45.570615Z",
     "start_time": "2025-05-21T20:04:45.566806Z"
    }
   },
   "cell_type": "code",
   "source": "# HeliosLib.GetName(0 , #ptr to string)  # Need to work out how to get a string back from call to C",
   "id": "58e1e52f007fef3b",
   "outputs": [],
   "execution_count": 4
  },
  {
   "metadata": {},
   "cell_type": "markdown",
   "source": [
    "## Generate an array of frames\n",
    "Horizontal Lines that change position vertically - repeated"
   ],
   "id": "70bbd0f4cd12d580"
  },
  {
   "metadata": {
    "ExecuteTime": {
     "end_time": "2025-05-21T21:19:53.476040Z",
     "start_time": "2025-05-21T21:19:48.482921Z"
    }
   },
   "cell_type": "code",
   "source": [
    "nPointsPerFrame = 1000 # max 1000, number of points in lines painted in 1 frame\n",
    "\n",
    "# Create sample frames in array \"frames\" - doesn't display it yet\n",
    "nframes = 30\n",
    "frames = [0 for x in range(nframes)]\n",
    "frameType = HeliosPoint * nPointsPerFrame  # Array of points\n",
    "x = 0\n",
    "y = 0\n",
    "\n",
    "\n",
    "for i in range(nframes):\n",
    "    y = round(i * 0xFFF / 30)  # y coordinate same for entire line , jumps with each loop\n",
    "    frames[i] = frameType()\n",
    "    for j in range(nPointsPerFrame):\n",
    "        if (j < nPointsPerFrame//2 ):\n",
    "            x = round(j * 0xFFF / (nPointsPerFrame//2)) # Full width\n",
    "        else:\n",
    "            x = round(0xFFF - ((j - (nPointsPerFrame//2)) * 0xFFF / (nPointsPerFrame//2))) # Full width\n",
    "\n",
    "        # [i] nframes # of frames\n",
    "        # [j] nPointsPerFrame points within the frames\n",
    "        frames[i][j] = HeliosPoint( int(x),int(y) # Position of each point\n",
    "                                #   ,255,255,255 # RGB = White\n",
    "                                   ,255,0,128 # RGB = Purple\n",
    "                                   ,255) # Intensity\n",
    "\n",
    "\n",
    "\n",
    "\n",
    "# Play \"frames\" array directly on DAC\n",
    "\n",
    "nframesDisplay = 150\n",
    "print(f\"Write {nframesDisplay} frames to Helios DACs\")\n",
    "print(f\"Using an array with dimensions {len(frames)} frames x {len(frames[0])} points \")\n",
    "print(f\"Will loop again over array if total number of frames to write is greater than array size\")\n",
    "\n",
    "for i in range(nframesDisplay):\n",
    "# Use i % nframes when selecting from Frame\n",
    "\n",
    "    for j in range(numDevices):\n",
    "    # Looping over devices - handles more than one - they all display same\n",
    "\n",
    "        statusAttempts = 0\n",
    "\n",
    "        # Make 512 attempts for DAC status to be ready. After that, just give up and try to write the frame anyway\n",
    "        while (statusAttempts < 512 and HeliosLib.GetStatus(j) != 1):\n",
    "            statusAttempts += 1\n",
    "\n",
    "        HeliosLib.WriteFrame( # Send a new frame to HeliosDAC\n",
    "            j                           # Which device\n",
    "            , nframes * nPointsPerFrame # pps, points per second\n",
    "                                        # nframes * number of points in a frame, i.e. size of all frames\n",
    "                                        # We are asking it to display entire frames \"movie\" in 1 second\n",
    "            , 0                         # FLAG=0, waits for current frame to complete, plays repeatedly until new frame loaded\n",
    "            , ctypes.pointer( frames[i % nframes] )  # We are passing pointer to array of points in single frame\n",
    "            , nPointsPerFrame  # This is number of points\n",
    "        )\n",
    "\n",
    "        if statusAttempts>=512:\n",
    "            print(\"Warning: Could not write frame to DAC\")\n",
    "\n",
    "print(\"\\n------------------------------- Finished Writing Frames\")\n",
    "\n"
   ],
   "id": "b3dc59266f64eda3",
   "outputs": [
    {
     "name": "stdout",
     "output_type": "stream",
     "text": [
      "Write 150 frames to Helios DACs\n",
      "Using an array with dimensions 30 frames x 1000 points \n",
      "Will loop again over array if total number of frames to write is greater than array size\n",
      "\n",
      "------------------------------- Finished Writing Frames\n"
     ]
    }
   ],
   "execution_count": 27
  },
  {
   "metadata": {
    "ExecuteTime": {
     "end_time": "2025-05-21T13:51:39.940105Z",
     "start_time": "2025-05-21T13:51:39.908075Z"
    }
   },
   "cell_type": "code",
   "source": [
    "# Stop first device from outputting any frame data\n",
    "HeliosLib.Stop(0)"
   ],
   "id": "67f9ce1f9678f26b",
   "outputs": [
    {
     "data": {
      "text/plain": [
       "1"
      ]
     },
     "execution_count": 7,
     "metadata": {},
     "output_type": "execute_result"
    }
   ],
   "execution_count": 7
  },
  {
   "metadata": {
    "ExecuteTime": {
     "end_time": "2025-05-21T13:53:15.971263Z",
     "start_time": "2025-05-21T13:53:15.961848Z"
    }
   },
   "cell_type": "code",
   "source": "HeliosLib.GetSupportsHigherResolutions(0) # returns 0 if only 12 bit, 1 if 16 bit",
   "id": "92a2059da7574600",
   "outputs": [
    {
     "data": {
      "text/plain": [
       "0"
      ]
     },
     "execution_count": 8,
     "metadata": {},
     "output_type": "execute_result"
    }
   ],
   "execution_count": 8
  },
  {
   "metadata": {
    "ExecuteTime": {
     "end_time": "2025-05-21T03:02:31.527796Z",
     "start_time": "2025-05-21T03:02:31.497322Z"
    }
   },
   "cell_type": "code",
   "source": "HeliosLib.CloseDevices()",
   "id": "b259fd3fc5718e26",
   "outputs": [
    {
     "data": {
      "text/plain": [
       "1"
      ]
     },
     "execution_count": 30,
     "metadata": {},
     "output_type": "execute_result"
    }
   ],
   "execution_count": 30
  },
  {
   "metadata": {},
   "cell_type": "markdown",
   "source": [
    "## Try rendering a single line - randomly selected from previously made array\n",
    "\n"
   ],
   "id": "90d335ebd962504e"
  },
  {
   "metadata": {
    "ExecuteTime": {
     "end_time": "2025-05-21T21:20:17.882081Z",
     "start_time": "2025-05-21T21:20:14.567441Z"
    }
   },
   "cell_type": "code",
   "source": [
    "# Simple Example using Frames Array from previous code\n",
    "\n",
    "for k in range(100):\n",
    "\n",
    "    deviceID = 0 # Device #, only one\n",
    "    i = np.random.randint(low=0, high=nframes, size=None) # , dtype=int , Pick index for a line, randomly from array\n",
    "\n",
    "    statusAttempts = 0\n",
    "    # Make 512 attempts for DAC status to be ready. After that, just give up and try to write the frame anyway\n",
    "    while (statusAttempts < 512 and HeliosLib.GetStatus(j) != 1):\n",
    "        statusAttempts += 1\n",
    "\n",
    "    writeStatusFlag = HeliosLib.WriteFrame( #Send the frame\n",
    "        deviceID                      # Device\n",
    "        , nframes * nPointsPerFrame   # Why is this 30 frames * number of points in a frame, i.e. all frames\n",
    "        , 0                           # ???\n",
    "        , ctypes.pointer( frames[i % nframes] )  # We are passing pointer to array of points\n",
    "        , nPointsPerFrame             # This is number of points\n",
    "    )\n",
    "\n",
    "    print( f\"{k:4d} Status: {HeliosLib.GetStatus(j):1d}  WriteStatusFlag: {writeStatusFlag:1d}  StatusAttempts: {statusAttempts:3d}\" ) #\n",
    "\n",
    "    #time.sleep(0.5)\n"
   ],
   "id": "e79e85b6633932d4",
   "outputs": [
    {
     "name": "stdout",
     "output_type": "stream",
     "text": [
      "   0 Status: 0  WriteStatusFlag: 1  StatusAttempts:   0\n",
      "   1 Status: 0  WriteStatusFlag: 1  StatusAttempts:   8\n",
      "   2 Status: 0  WriteStatusFlag: 1  StatusAttempts:  10\n",
      "   3 Status: 0  WriteStatusFlag: 1  StatusAttempts:  11\n",
      "   4 Status: 0  WriteStatusFlag: 1  StatusAttempts:  12\n",
      "   5 Status: 0  WriteStatusFlag: 1  StatusAttempts:  11\n",
      "   6 Status: 0  WriteStatusFlag: 1  StatusAttempts:  11\n",
      "   7 Status: 0  WriteStatusFlag: 1  StatusAttempts:  11\n",
      "   8 Status: 0  WriteStatusFlag: 1  StatusAttempts:  11\n",
      "   9 Status: 0  WriteStatusFlag: 1  StatusAttempts:  11\n",
      "  10 Status: 0  WriteStatusFlag: 1  StatusAttempts:  12\n",
      "  11 Status: 0  WriteStatusFlag: 1  StatusAttempts:  11\n",
      "  12 Status: 0  WriteStatusFlag: 1  StatusAttempts:  11\n",
      "  13 Status: 0  WriteStatusFlag: 1  StatusAttempts:  10\n",
      "  14 Status: 0  WriteStatusFlag: 1  StatusAttempts:  11\n",
      "  15 Status: 0  WriteStatusFlag: 1  StatusAttempts:  11\n",
      "  16 Status: 0  WriteStatusFlag: 1  StatusAttempts:  11\n",
      "  17 Status: 0  WriteStatusFlag: 1  StatusAttempts:  11\n",
      "  18 Status: 0  WriteStatusFlag: 1  StatusAttempts:  12\n",
      "  19 Status: 0  WriteStatusFlag: 1  StatusAttempts:  10\n",
      "  20 Status: 0  WriteStatusFlag: 1  StatusAttempts:  11\n",
      "  21 Status: 0  WriteStatusFlag: 1  StatusAttempts:  12\n",
      "  22 Status: 0  WriteStatusFlag: 1  StatusAttempts:  11\n",
      "  23 Status: 0  WriteStatusFlag: 1  StatusAttempts:  11\n",
      "  24 Status: 0  WriteStatusFlag: 1  StatusAttempts:  11\n",
      "  25 Status: 0  WriteStatusFlag: 1  StatusAttempts:  10\n",
      "  26 Status: 0  WriteStatusFlag: 1  StatusAttempts:  11\n",
      "  27 Status: 0  WriteStatusFlag: 1  StatusAttempts:  10\n",
      "  28 Status: 0  WriteStatusFlag: 1  StatusAttempts:  11\n",
      "  29 Status: 0  WriteStatusFlag: 1  StatusAttempts:  10\n",
      "  30 Status: 0  WriteStatusFlag: 1  StatusAttempts:  11\n",
      "  31 Status: 0  WriteStatusFlag: 1  StatusAttempts:  11\n",
      "  32 Status: 0  WriteStatusFlag: 1  StatusAttempts:  11\n",
      "  33 Status: 0  WriteStatusFlag: 1  StatusAttempts:  12\n",
      "  34 Status: 0  WriteStatusFlag: 1  StatusAttempts:  11\n",
      "  35 Status: 0  WriteStatusFlag: 1  StatusAttempts:  11\n",
      "  36 Status: 0  WriteStatusFlag: 1  StatusAttempts:   9\n",
      "  37 Status: 0  WriteStatusFlag: 1  StatusAttempts:   7\n",
      "  38 Status: 0  WriteStatusFlag: 1  StatusAttempts:  11\n",
      "  39 Status: 0  WriteStatusFlag: 1  StatusAttempts:  11\n",
      "  40 Status: 0  WriteStatusFlag: 1  StatusAttempts:  11\n",
      "  41 Status: 0  WriteStatusFlag: 1  StatusAttempts:  11\n",
      "  42 Status: 0  WriteStatusFlag: 1  StatusAttempts:  11\n",
      "  43 Status: 0  WriteStatusFlag: 1  StatusAttempts:  11\n",
      "  44 Status: 0  WriteStatusFlag: 1  StatusAttempts:  11\n",
      "  45 Status: 0  WriteStatusFlag: 1  StatusAttempts:  11\n",
      "  46 Status: 0  WriteStatusFlag: 1  StatusAttempts:  10\n",
      "  47 Status: 0  WriteStatusFlag: 1  StatusAttempts:  12\n",
      "  48 Status: 0  WriteStatusFlag: 1  StatusAttempts:  11\n",
      "  49 Status: 0  WriteStatusFlag: 1  StatusAttempts:  11\n",
      "  50 Status: 0  WriteStatusFlag: 1  StatusAttempts:  11\n",
      "  51 Status: 0  WriteStatusFlag: 1  StatusAttempts:  11\n",
      "  52 Status: 0  WriteStatusFlag: 1  StatusAttempts:  11\n",
      "  53 Status: 0  WriteStatusFlag: 1  StatusAttempts:  11\n",
      "  54 Status: 0  WriteStatusFlag: 1  StatusAttempts:  11\n",
      "  55 Status: 0  WriteStatusFlag: 1  StatusAttempts:  11\n",
      "  56 Status: 0  WriteStatusFlag: 1  StatusAttempts:  12\n",
      "  57 Status: 0  WriteStatusFlag: 1  StatusAttempts:  11\n",
      "  58 Status: 0  WriteStatusFlag: 1  StatusAttempts:  11\n",
      "  59 Status: 0  WriteStatusFlag: 1  StatusAttempts:  11\n",
      "  60 Status: 0  WriteStatusFlag: 1  StatusAttempts:  11\n",
      "  61 Status: 0  WriteStatusFlag: 1  StatusAttempts:  11\n",
      "  62 Status: 0  WriteStatusFlag: 1  StatusAttempts:  11\n",
      "  63 Status: 0  WriteStatusFlag: 1  StatusAttempts:  11\n",
      "  64 Status: 0  WriteStatusFlag: 1  StatusAttempts:  11\n",
      "  65 Status: 0  WriteStatusFlag: 1  StatusAttempts:  12\n",
      "  66 Status: 0  WriteStatusFlag: 1  StatusAttempts:  11\n",
      "  67 Status: 0  WriteStatusFlag: 1  StatusAttempts:  11\n",
      "  68 Status: 0  WriteStatusFlag: 1  StatusAttempts:  11\n",
      "  69 Status: 0  WriteStatusFlag: 1  StatusAttempts:  11\n",
      "  70 Status: 0  WriteStatusFlag: 1  StatusAttempts:  11\n",
      "  71 Status: 0  WriteStatusFlag: 1  StatusAttempts:  12\n",
      "  72 Status: 0  WriteStatusFlag: 1  StatusAttempts:  11\n",
      "  73 Status: 0  WriteStatusFlag: 1  StatusAttempts:  11\n",
      "  74 Status: 0  WriteStatusFlag: 1  StatusAttempts:  10\n",
      "  75 Status: 0  WriteStatusFlag: 1  StatusAttempts:  11\n",
      "  76 Status: 0  WriteStatusFlag: 1  StatusAttempts:  12\n",
      "  77 Status: 0  WriteStatusFlag: 1  StatusAttempts:  11\n",
      "  78 Status: 0  WriteStatusFlag: 1  StatusAttempts:  11\n",
      "  79 Status: 0  WriteStatusFlag: 1  StatusAttempts:  11\n",
      "  80 Status: 0  WriteStatusFlag: 1  StatusAttempts:  11\n",
      "  81 Status: 0  WriteStatusFlag: 1  StatusAttempts:  11\n",
      "  82 Status: 0  WriteStatusFlag: 1  StatusAttempts:  11\n",
      "  83 Status: 0  WriteStatusFlag: 1  StatusAttempts:  11\n",
      "  84 Status: 0  WriteStatusFlag: 1  StatusAttempts:  11\n",
      "  85 Status: 0  WriteStatusFlag: 1  StatusAttempts:  12\n",
      "  86 Status: 0  WriteStatusFlag: 1  StatusAttempts:  10\n",
      "  87 Status: 0  WriteStatusFlag: 1  StatusAttempts:  11\n",
      "  88 Status: 0  WriteStatusFlag: 1  StatusAttempts:  12\n",
      "  89 Status: 0  WriteStatusFlag: 1  StatusAttempts:  10\n",
      "  90 Status: 0  WriteStatusFlag: 1  StatusAttempts:  11\n",
      "  91 Status: 0  WriteStatusFlag: 1  StatusAttempts:  10\n",
      "  92 Status: 0  WriteStatusFlag: 1  StatusAttempts:   9\n",
      "  93 Status: 0  WriteStatusFlag: 1  StatusAttempts:  11\n",
      "  94 Status: 0  WriteStatusFlag: 1  StatusAttempts:  11\n",
      "  95 Status: 0  WriteStatusFlag: 1  StatusAttempts:  11\n",
      "  96 Status: 0  WriteStatusFlag: 1  StatusAttempts:  10\n",
      "  97 Status: 0  WriteStatusFlag: 1  StatusAttempts:  12\n",
      "  98 Status: 0  WriteStatusFlag: 1  StatusAttempts:  11\n",
      "  99 Status: 0  WriteStatusFlag: 1  StatusAttempts:  11\n"
     ]
    }
   ],
   "execution_count": 28
  },
  {
   "metadata": {},
   "cell_type": "markdown",
   "source": "## Try a Spaceship Sprite",
   "id": "9458da34cb92e0a"
  },
  {
   "metadata": {
    "ExecuteTime": {
     "end_time": "2025-05-21T21:20:31.322420Z",
     "start_time": "2025-05-21T21:20:31.314525Z"
    }
   },
   "cell_type": "code",
   "source": [
    "# Useful functions\n",
    "\n",
    "import numpy as np\n",
    "\n",
    "def transform_vectors(vectors, angle_radians=0., scale=[1.,1.] , shift=[0.,0.] ):\n",
    "    \"\"\"\n",
    "    Rotates, scales, and shifts an array of 2D vectors.\n",
    "\n",
    "    Args:\n",
    "        vectors (numpy.ndarray): Array of 2D vectors, shape (n, 2).\n",
    "        angle_radians (float): Rotation angle in radians (counter-clockwise).\n",
    "        scale_x (float): Scaling factor in x-direction.\n",
    "        scale_y (float): Scaling factor in y-direction.\n",
    "        shift_x (float): Shift in x-direction.\n",
    "        shift_y (float): Shift in y-direction.\n",
    "\n",
    "    Returns:\n",
    "        numpy.ndarray: Transformed array of 2D vectors, shape (n, 2).\n",
    "    \"\"\"\n",
    "\n",
    "    # angle_radians = np.radians(angle_degrees)\n",
    "    rotation_matrix = np.array([\n",
    "        [np.cos(angle_radians), -np.sin(angle_radians)],\n",
    "        [np.sin(angle_radians), np.cos(angle_radians)]\n",
    "    ])\n",
    "\n",
    "    scale_matrix = np.array([\n",
    "        [scale[0], 0],\n",
    "        [0, scale[1]]\n",
    "    ])\n",
    "\n",
    "    transformed_vectors = vectors.copy()\n",
    "\n",
    "    for i in range(vectors.shape[0]):\n",
    "      transformed_vectors[i] = np.dot(scale_matrix, transformed_vectors[i])\n",
    "      transformed_vectors[i] = np.dot(rotation_matrix, transformed_vectors[i])\n",
    "      transformed_vectors[i][0] += shift[0]\n",
    "      transformed_vectors[i][1] += shift[1]\n",
    "\n",
    "    return transformed_vectors\n"
   ],
   "id": "52cc4f782dad229a",
   "outputs": [],
   "execution_count": 29
  },
  {
   "metadata": {
    "ExecuteTime": {
     "end_time": "2025-05-21T21:20:33.861511Z",
     "start_time": "2025-05-21T21:20:33.857676Z"
    }
   },
   "cell_type": "code",
   "source": [
    "# 2D Vectors\n",
    "sprite = np.array( [[0.,0.],[-1.,-1.],[2.,0.],[-1.,1.],[0.,0.]] ) # Simple spacecraft\n",
    "nPointsPerFrame = len(sprite)\n",
    "print(f\"{nPointsPerFrame}\")"
   ],
   "id": "a97054ba9ff43454",
   "outputs": [
    {
     "name": "stdout",
     "output_type": "stream",
     "text": [
      "5\n"
     ]
    }
   ],
   "execution_count": 30
  },
  {
   "metadata": {
    "ExecuteTime": {
     "end_time": "2025-05-21T21:20:37.707423Z",
     "start_time": "2025-05-21T21:20:37.626868Z"
    }
   },
   "cell_type": "code",
   "source": [
    "# Demo a rotation\n",
    "import numpy as np\n",
    "import matplotlib.pyplot as plt\n",
    "\n",
    "print( f\"{sprite.astype(int)}\" )\n",
    "sprite2 = transform_vectors(sprite,np.pi/3.,scale=[5.,5.])\n",
    "print( f\"\\n{ sprite2.astype(int) }\" )\n",
    "\n",
    "plt.figure(1,figsize = (4,4))\n",
    "plt.plot( *sprite.astype(int).T , 'r' )\n",
    "plt.plot( *sprite2.astype(int).T , 'b' );\n",
    "plt.axis('equal');\n",
    "plt.xlim(-20,20);\n",
    "plt.ylim(-20,20);"
   ],
   "id": "9bb828d70d201df6",
   "outputs": [
    {
     "name": "stdout",
     "output_type": "stream",
     "text": [
      "[[ 0  0]\n",
      " [-1 -1]\n",
      " [ 2  0]\n",
      " [-1  1]\n",
      " [ 0  0]]\n",
      "\n",
      "[[ 0  0]\n",
      " [ 1 -6]\n",
      " [ 5  8]\n",
      " [-6 -1]\n",
      " [ 0  0]]\n"
     ]
    },
    {
     "data": {
      "text/plain": [
       "<Figure size 400x400 with 1 Axes>"
      ],
      "image/png": "[encoded data removed]"
     },
     "metadata": {},
     "output_type": "display_data"
    }
   ],
   "execution_count": 31
  },
  {
   "metadata": {
    "ExecuteTime": {
     "end_time": "2025-05-21T23:10:33.288891Z",
     "start_time": "2025-05-21T23:10:27.744541Z"
    }
   },
   "cell_type": "code",
   "source": [
    "# Simple Example using live generated sprite\n",
    "deviceID = 0  # Device #, only one\n",
    "\n",
    "nframes = 100\n",
    "nPointsPerFrame = len(sprite)\n",
    "sprites = [0 for x in range(nframes)]\n",
    "frameType = HeliosPoint * nPointsPerFrame  # Array of points\n",
    "\n",
    "# Initial random orientation\n",
    "theta = np.random.uniform(low=0., high=2.*np.pi, size=None)\n",
    "scale = np.array([1.,1.]) * np.random.randint(low= 290., high= 300., size=None)\n",
    "shift = np.random.randint(low=2000., high=2100. ,size=(2,))\n",
    "# vel = np.random.randint(low=20., high=50. ,size=(2,) )\n",
    "vel = np.array([np.cos(theta),np.sin(theta)]) * np.random.randint(low=10., high=20. ,size=None )\n",
    "\n",
    "for i in range(nframes):\n",
    "    sprites[i] = frameType()\n",
    "\n",
    "    # Change rotation and shift\n",
    "    shift = shift + vel\n",
    "    theta = theta + np.random.uniform(low=0., high=2.*np.pi/100., size=None)\n",
    "\n",
    "    # Make a scaled and rotated sprite with points in the range 0 - 4k\n",
    "    sprite2 = np.clip(\n",
    "        transform_vectors( sprite, theta ,scale=scale ,shift=shift ).astype(int)\n",
    "        , 0 , 4096 ) # Limit the range of coordinates 0 -> 4k\n",
    "\n",
    "    for j in range(nPointsPerFrame):\n",
    "        # [i] nframes # of frames\n",
    "        # [j] nPointsPerFrame points within the frames\n",
    "        sprites[i][j] = HeliosPoint(\n",
    "                            int( sprite2[j][0] )\n",
    "                            , int( sprite2[j][1] ) # Position of each point\n",
    "                            #, 255, 0, 128 # RGB = Purple,\n",
    "                            , 255,255,255 # RGB = White\n",
    "                            , 255  # Intensity\n",
    "                            )\n",
    "\n",
    "    # sprite2int = list([sprite2.astype(int),])\n",
    "\n",
    "    statusAttempts = 0\n",
    "    # Make 512 attempts for DAC status to be ready. After that, just give up and try to write the frame anyway\n",
    "    while (statusAttempts < 512 and HeliosLib.GetStatus(deviceID) != 1):\n",
    "        statusAttempts += 1\n",
    "\n",
    "    writeStatusFlag = HeliosLib.WriteFrame(  #Send the frame\n",
    "        deviceID  # Device\n",
    "        , 1000  # pps\n",
    "        , 0  # flag\n",
    "        , ctypes.pointer( sprites[i] )  # We are passing pointer to array of points\n",
    "        # , ctypes.pointer( frames[0]  )  # We are passing pointer to a list array of points\n",
    "        , nPointsPerFrame  # This is number of points\n",
    "    )\n",
    "\n",
    "    print(\n",
    "        f\"{k:4d} Status: {HeliosLib.GetStatus(deviceID):1d}  WriteStatusFlag: {writeStatusFlag:1d}  StatusAttempts: {statusAttempts:3d}\")  #\n",
    "\n",
    "    time.sleep(0.05)\n"
   ],
   "id": "f480cfc8d370b058",
   "outputs": [
    {
     "name": "stdout",
     "output_type": "stream",
     "text": [
      "   0 Status: 0  WriteStatusFlag: 1  StatusAttempts:   0\n",
      "   0 Status: 0  WriteStatusFlag: 1  StatusAttempts:   0\n",
      "   0 Status: 0  WriteStatusFlag: 1  StatusAttempts:   0\n",
      "   0 Status: 0  WriteStatusFlag: 1  StatusAttempts:   0\n",
      "   0 Status: 0  WriteStatusFlag: 1  StatusAttempts:   0\n",
      "   0 Status: 0  WriteStatusFlag: 1  StatusAttempts:   0\n",
      "   0 Status: 0  WriteStatusFlag: 1  StatusAttempts:   0\n",
      "   0 Status: 0  WriteStatusFlag: 1  StatusAttempts:   0\n",
      "   0 Status: 0  WriteStatusFlag: 1  StatusAttempts:   0\n",
      "   0 Status: 0  WriteStatusFlag: 1  StatusAttempts:   0\n",
      "   0 Status: 0  WriteStatusFlag: 1  StatusAttempts:   0\n",
      "   0 Status: 0  WriteStatusFlag: 1  StatusAttempts:   0\n",
      "   0 Status: 0  WriteStatusFlag: 1  StatusAttempts:   0\n",
      "   0 Status: 0  WriteStatusFlag: 1  StatusAttempts:   0\n",
      "   0 Status: 0  WriteStatusFlag: 1  StatusAttempts:   0\n",
      "   0 Status: 1  WriteStatusFlag: 1  StatusAttempts:   0\n",
      "   0 Status: 0  WriteStatusFlag: 1  StatusAttempts:   0\n",
      "   0 Status: 0  WriteStatusFlag: 1  StatusAttempts:   0\n",
      "   0 Status: 1  WriteStatusFlag: 1  StatusAttempts:   0\n",
      "   0 Status: 1  WriteStatusFlag: 1  StatusAttempts:   0\n",
      "   0 Status: 0  WriteStatusFlag: 1  StatusAttempts:   0\n",
      "   0 Status: 0  WriteStatusFlag: 1  StatusAttempts:   0\n",
      "   0 Status: 0  WriteStatusFlag: 1  StatusAttempts:   0\n",
      "   0 Status: 0  WriteStatusFlag: 1  StatusAttempts:   0\n",
      "   0 Status: 1  WriteStatusFlag: 1  StatusAttempts:   0\n",
      "   0 Status: 0  WriteStatusFlag: 1  StatusAttempts:   0\n",
      "   0 Status: 0  WriteStatusFlag: 1  StatusAttempts:   0\n",
      "   0 Status: 0  WriteStatusFlag: 1  StatusAttempts:   0\n",
      "   0 Status: 0  WriteStatusFlag: 1  StatusAttempts:   0\n",
      "   0 Status: 1  WriteStatusFlag: 1  StatusAttempts:   0\n",
      "   0 Status: 0  WriteStatusFlag: 1  StatusAttempts:   0\n",
      "   0 Status: 0  WriteStatusFlag: 1  StatusAttempts:   0\n",
      "   0 Status: 0  WriteStatusFlag: 1  StatusAttempts:   0\n",
      "   0 Status: 0  WriteStatusFlag: 1  StatusAttempts:   0\n",
      "   0 Status: 0  WriteStatusFlag: 1  StatusAttempts:   0\n",
      "   0 Status: 1  WriteStatusFlag: 1  StatusAttempts:   0\n",
      "   0 Status: 0  WriteStatusFlag: 1  StatusAttempts:   0\n",
      "   0 Status: 0  WriteStatusFlag: 1  StatusAttempts:   0\n",
      "   0 Status: 1  WriteStatusFlag: 1  StatusAttempts:   0\n",
      "   0 Status: 0  WriteStatusFlag: 1  StatusAttempts:   0\n",
      "   0 Status: 0  WriteStatusFlag: 1  StatusAttempts:   0\n",
      "   0 Status: 0  WriteStatusFlag: 1  StatusAttempts:   0\n",
      "   0 Status: 0  WriteStatusFlag: 1  StatusAttempts:   0\n",
      "   0 Status: 0  WriteStatusFlag: 1  StatusAttempts:   0\n",
      "   0 Status: 1  WriteStatusFlag: 1  StatusAttempts:   0\n",
      "   0 Status: 0  WriteStatusFlag: 1  StatusAttempts:   0\n",
      "   0 Status: 0  WriteStatusFlag: 1  StatusAttempts:   0\n",
      "   0 Status: 0  WriteStatusFlag: 1  StatusAttempts:   0\n",
      "   0 Status: 0  WriteStatusFlag: 1  StatusAttempts:   0\n",
      "   0 Status: 0  WriteStatusFlag: 1  StatusAttempts:   0\n",
      "   0 Status: 0  WriteStatusFlag: 1  StatusAttempts:   0\n",
      "   0 Status: 1  WriteStatusFlag: 1  StatusAttempts:   0\n",
      "   0 Status: 0  WriteStatusFlag: 1  StatusAttempts:   0\n",
      "   0 Status: 0  WriteStatusFlag: 1  StatusAttempts:   0\n",
      "   0 Status: 0  WriteStatusFlag: 1  StatusAttempts:   0\n",
      "   0 Status: 0  WriteStatusFlag: 1  StatusAttempts:   0\n",
      "   0 Status: 0  WriteStatusFlag: 1  StatusAttempts:   0\n",
      "   0 Status: 1  WriteStatusFlag: 1  StatusAttempts:   0\n",
      "   0 Status: 0  WriteStatusFlag: 1  StatusAttempts:   0\n",
      "   0 Status: 0  WriteStatusFlag: 1  StatusAttempts:   0\n",
      "   0 Status: 0  WriteStatusFlag: 1  StatusAttempts:   0\n",
      "   0 Status: 0  WriteStatusFlag: 1  StatusAttempts:   0\n",
      "   0 Status: 0  WriteStatusFlag: 1  StatusAttempts:   0\n",
      "   0 Status: 0  WriteStatusFlag: 1  StatusAttempts:   0\n",
      "   0 Status: 1  WriteStatusFlag: 1  StatusAttempts:   0\n",
      "   0 Status: 0  WriteStatusFlag: 1  StatusAttempts:   0\n",
      "   0 Status: 0  WriteStatusFlag: 1  StatusAttempts:   0\n",
      "   0 Status: 0  WriteStatusFlag: 1  StatusAttempts:   0\n",
      "   0 Status: 0  WriteStatusFlag: 1  StatusAttempts:   0\n",
      "   0 Status: 0  WriteStatusFlag: 1  StatusAttempts:   0\n",
      "   0 Status: 0  WriteStatusFlag: 1  StatusAttempts:   0\n",
      "   0 Status: 0  WriteStatusFlag: 1  StatusAttempts:   0\n",
      "   0 Status: 0  WriteStatusFlag: 1  StatusAttempts:   0\n",
      "   0 Status: 0  WriteStatusFlag: 1  StatusAttempts:   0\n",
      "   0 Status: 0  WriteStatusFlag: 1  StatusAttempts:   0\n",
      "   0 Status: 1  WriteStatusFlag: 1  StatusAttempts:   0\n",
      "   0 Status: 0  WriteStatusFlag: 1  StatusAttempts:   0\n",
      "   0 Status: 0  WriteStatusFlag: 1  StatusAttempts:   0\n",
      "   0 Status: 0  WriteStatusFlag: 1  StatusAttempts:   0\n",
      "   0 Status: 0  WriteStatusFlag: 1  StatusAttempts:   0\n",
      "   0 Status: 1  WriteStatusFlag: 1  StatusAttempts:   0\n",
      "   0 Status: 0  WriteStatusFlag: 1  StatusAttempts:   0\n",
      "   0 Status: 0  WriteStatusFlag: 1  StatusAttempts:   0\n",
      "   0 Status: 0  WriteStatusFlag: 1  StatusAttempts:   0\n",
      "   0 Status: 0  WriteStatusFlag: 1  StatusAttempts:   0\n",
      "   0 Status: 1  WriteStatusFlag: 1  StatusAttempts:   0\n",
      "   0 Status: 0  WriteStatusFlag: 1  StatusAttempts:   0\n",
      "   0 Status: 0  WriteStatusFlag: 1  StatusAttempts:   0\n",
      "   0 Status: 0  WriteStatusFlag: 1  StatusAttempts:   0\n",
      "   0 Status: 0  WriteStatusFlag: 1  StatusAttempts:   0\n",
      "   0 Status: 1  WriteStatusFlag: 1  StatusAttempts:   0\n",
      "   0 Status: 0  WriteStatusFlag: 1  StatusAttempts:   0\n",
      "   0 Status: 0  WriteStatusFlag: 1  StatusAttempts:   0\n",
      "   0 Status: 0  WriteStatusFlag: 1  StatusAttempts:   0\n",
      "   0 Status: 1  WriteStatusFlag: 1  StatusAttempts:   0\n",
      "   0 Status: 0  WriteStatusFlag: 1  StatusAttempts:   0\n",
      "   0 Status: 0  WriteStatusFlag: 1  StatusAttempts:   0\n",
      "   0 Status: 1  WriteStatusFlag: 1  StatusAttempts:   0\n",
      "   0 Status: 0  WriteStatusFlag: 1  StatusAttempts:   0\n",
      "   0 Status: 0  WriteStatusFlag: 1  StatusAttempts:   0\n"
     ]
    }
   ],
   "execution_count": 91
  },
  {
   "metadata": {
    "ExecuteTime": {
     "end_time": "2025-05-21T22:59:22.128843Z",
     "start_time": "2025-05-21T22:59:22.126339Z"
    }
   },
   "cell_type": "code",
   "source": [
    "shift = np.array([1.,1.]) * np.random.randint(low=2000., high=2100., size=None)\n",
    "print( shift.shape )"
   ],
   "id": "c4a01108b44767a1",
   "outputs": [
    {
     "name": "stdout",
     "output_type": "stream",
     "text": [
      "(2,)\n"
     ]
    }
   ],
   "execution_count": 74
  },
  {
   "metadata": {
    "ExecuteTime": {
     "end_time": "2025-05-21T22:59:52.597599Z",
     "start_time": "2025-05-21T22:59:52.578405Z"
    }
   },
   "cell_type": "code",
   "source": "vel = np.array([1.,1.]) * np.random.randint(low=0., high=10., size=(2,))",
   "id": "4195d573494a434",
   "outputs": [],
   "execution_count": 75
  },
  {
   "metadata": {
    "ExecuteTime": {
     "end_time": "2025-05-21T23:00:08.603770Z",
     "start_time": "2025-05-21T23:00:08.587014Z"
    }
   },
   "cell_type": "code",
   "source": "print( vel.shape )",
   "id": "30e72d01a880cb22",
   "outputs": [
    {
     "name": "stdout",
     "output_type": "stream",
     "text": [
      "(2,)\n"
     ]
    }
   ],
   "execution_count": 76
  },
  {
   "metadata": {
    "ExecuteTime": {
     "end_time": "2025-05-21T22:00:28.010839Z",
     "start_time": "2025-05-21T22:00:27.998993Z"
    }
   },
   "cell_type": "code",
   "source": "int( sprite2[j][0] )",
   "id": "436bedc83a81be7e",
   "outputs": [
    {
     "data": {
      "text/plain": [
       "2083"
      ]
     },
     "execution_count": 55,
     "metadata": {},
     "output_type": "execute_result"
    }
   ],
   "execution_count": 55
  },
  {
   "metadata": {
    "ExecuteTime": {
     "end_time": "2025-05-21T22:45:21.620826Z",
     "start_time": "2025-05-21T22:45:21.615733Z"
    }
   },
   "cell_type": "code",
   "source": "print( np.clip( sprite2 , 0 , 4096 ) )",
   "id": "8b04d4f0a7cb2f65",
   "outputs": [
    {
     "name": "stdout",
     "output_type": "stream",
     "text": [
      "[[2084 2084]\n",
      " [1482 1709]\n",
      " [3059 1856]\n",
      " [1709 2685]\n",
      " [2084 2084]]\n"
     ]
    }
   ],
   "execution_count": 66
  },
  {
   "metadata": {
    "ExecuteTime": {
     "end_time": "2025-05-21T20:36:10.910850Z",
     "start_time": "2025-05-21T20:36:10.895632Z"
    }
   },
   "cell_type": "code",
   "source": "np.random.randint(low=1000., high=2000., size=None)",
   "id": "97539bc8ad9f4633",
   "outputs": [
    {
     "data": {
      "text/plain": [
       "1799"
      ]
     },
     "execution_count": 17,
     "metadata": {},
     "output_type": "execute_result"
    }
   ],
   "execution_count": 17
  },
  {
   "metadata": {
    "ExecuteTime": {
     "end_time": "2025-05-21T21:14:54.622190Z",
     "start_time": "2025-05-21T21:14:54.578468Z"
    }
   },
   "cell_type": "code",
   "source": "np.random.uniform(low=0., high=2.*np.pi, size=None)",
   "id": "bbf89a8778d3dd61",
   "outputs": [
    {
     "data": {
      "text/plain": [
       "3.2583061851142943"
      ]
     },
     "execution_count": 20,
     "metadata": {},
     "output_type": "execute_result"
    }
   ],
   "execution_count": 20
  },
  {
   "metadata": {
    "ExecuteTime": {
     "end_time": "2025-05-21T21:28:38.144319Z",
     "start_time": "2025-05-21T21:28:38.139874Z"
    }
   },
   "cell_type": "code",
   "source": "len( sprite2int )",
   "id": "4f702632560e9014",
   "outputs": [
    {
     "data": {
      "text/plain": [
       "1"
      ]
     },
     "execution_count": 42,
     "metadata": {},
     "output_type": "execute_result"
    }
   ],
   "execution_count": 42
  },
  {
   "metadata": {
    "ExecuteTime": {
     "end_time": "2025-05-21T21:29:28.205496Z",
     "start_time": "2025-05-21T21:29:28.199845Z"
    }
   },
   "cell_type": "code",
   "source": "len( frames)",
   "id": "9f4414f6ae8f4ed5",
   "outputs": [
    {
     "data": {
      "text/plain": [
       "30"
      ]
     },
     "execution_count": 44,
     "metadata": {},
     "output_type": "execute_result"
    }
   ],
   "execution_count": 44
  },
  {
   "metadata": {
    "ExecuteTime": {
     "end_time": "2025-05-21T21:22:34.658582Z",
     "start_time": "2025-05-21T21:22:34.644186Z"
    }
   },
   "cell_type": "code",
   "source": "f = np.array( frames );",
   "id": "a63b82433c1e7f60",
   "outputs": [],
   "execution_count": 35
  },
  {
   "metadata": {},
   "cell_type": "code",
   "outputs": [],
   "execution_count": null,
   "source": "",
   "id": "947d79daafa0adc8"
  }
 ],
 "metadata": {
  "kernelspec": {
   "name": "python3",
   "language": "python",
   "display_name": "Python 3 (ipykernel)"
  }
 },
 "nbformat": 5,
 "nbformat_minor": 9
}
